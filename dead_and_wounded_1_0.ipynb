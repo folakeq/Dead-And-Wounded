{
 "cells": [
  {
   "cell_type": "code",
   "execution_count": null,
   "id": "6acf73d5-518d-4d59-9ce0-4d3ecc9935b2",
   "metadata": {},
   "outputs": [],
   "source": [
    "# Importing necessary library\n",
    "import random\n",
    "random.seed(43)\n",
    "\n",
    "# Generating a random 4-digit number\n",
    "guess_string = \"\"\n",
    "while len(guess_string)<4:\n",
    "    X = random.randint(0,9)\n",
    "    if str(X) not in list(guess_string):\n",
    "        guess_string+=str(X)\n",
    "\n",
    "# Player's Input\n",
    "players_guess = ''\n",
    "for i in range(20):\n",
    "    while players_guess != guess_string:\n",
    "        players_guess = input(\"Guess what four numbers I chose?\\n\")\n",
    "        try:\n",
    "            int(players_guess)\n",
    "            if len(players_guess) != 4:\n",
    "                print(\"Nice try. I asked for 4 numbers\")\n",
    "            elif len(players_guess) == 4:\n",
    "                dead = 0\n",
    "                wounded = 0\n",
    "                for i in range(4):\n",
    "                    if players_guess[i] in list(guess_string):\n",
    "                        wounded+=1\n",
    "                        if players_guess[i] == list(guess_string)[i]:\n",
    "                            dead+=1\n",
    "                            wounded-=1\n",
    "                print(f\"{dead} Dead, {wounded} Wounded\")\n",
    "                if dead == 4:\n",
    "                    print(\"YOU WON NIGGA!!!!\")\n",
    "        except:\n",
    "            print(\"Those aren't numbers!\")\n",
    "print(f\"The number was {guess_string}\")"
   ]
  },
  {
   "cell_type": "code",
   "execution_count": null,
   "id": "81479217-09f1-4d4e-89fc-f6fe1b0fac05",
   "metadata": {},
   "outputs": [],
   "source": []
  }
 ],
 "metadata": {
  "kernelspec": {
   "display_name": "Python 3 (ipykernel)",
   "language": "python",
   "name": "python3"
  },
  "language_info": {
   "codemirror_mode": {
    "name": "ipython",
    "version": 3
   },
   "file_extension": ".py",
   "mimetype": "text/x-python",
   "name": "python",
   "nbconvert_exporter": "python",
   "pygments_lexer": "ipython3",
   "version": "3.12.0"
  }
 },
 "nbformat": 4,
 "nbformat_minor": 5
}
